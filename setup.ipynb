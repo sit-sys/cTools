{
 "cells": [
  {
   "cell_type": "code",
   "execution_count": null,
   "id": "ce873a22-5c83-4250-b729-47adc2e5f05b",
   "metadata": {},
   "outputs": [],
   "source": [
    "import pathlib\n",
    "from setuptools import setup, find_packages\n",
    "\n",
    "def read_requirements(file):\n",
    "    with open(file) as f:\n",
    "        return f.read().splitlines()\n",
    "    \n",
    "def read_file(file):\n",
    "    with open(file) as f:\n",
    "        return f.read()\n",
    "\n",
    "HOME = pathlib.Path(__file__).parent.resolve()\n",
    "\n",
    "PACKAGE_NAME = \"cTools\"\n",
    "AUTHOR = \"Andy Yang\"\n",
    "AUTHOR_EMAIL = \"andy.yang@twsit.com\"\n",
    "URL = \"https://github.com/sit-sys/cTools\"\n",
    "DOWNLOAD_URL = \"https://pypi.org/project/cTools/\"\n",
    "\n",
    "LICENSE = \"MIT\"\n",
    "VERSION = read_file(\"VERSION\")\n",
    "DESCRIPTION = \"Common tools for S.I.T. project use\"\n",
    "LONG_DESCRIPTION = (HOME / \"docs\" / \"README.md\").read_text(encoding=\"utf8\")\n",
    "LONG_DESC_TYPE = \"text/markdown\"\n",
    "\n",
    "requirements = (HOME / \"requirements.txt\").read_text(encoding=\"utf8\")\n",
    "INSTALL_REQUIRES = [s.strip() for s in requirements.split(\"\\n\")]\n",
    "\n",
    "dev_requirements = (HOME / \"dev_requirements.txt\").read_text(encoding=\"utf8\")\n",
    "EXTRAS_REQUIRE = {\"dev\": [s.strip() for s in dev_requirements.split(\"\\n\")]}\n",
    "\n",
    "CLASSIFIERS = [f\"Programming Language :: Python :: 3.{str(v)}\" for v in range(7, 12)]\n",
    "PYTHON_REQUIRES = \">=3.8\"\n",
    "\n",
    "setup(\n",
    "    name=PACKAGE_NAME,\n",
    "    version=VERSION,\n",
    "    description=DESCRIPTION,\n",
    "    long_description=LONG_DESCRIPTION,\n",
    "    long_description_content_type=LONG_DESC_TYPE,\n",
    "    author=AUTHOR,\n",
    "    license=LICENSE,\n",
    "    author_email=AUTHOR_EMAIL,\n",
    "    url=URL,\n",
    "    download_url=DOWNLOAD_URL,\n",
    "    python_requires=PYTHON_REQUIRES,\n",
    "    install_requires=INSTALL_REQUIRES,\n",
    "    extras_require=EXTRAS_REQUIRE,\n",
    "    packages=find_packages(),\n",
    "    classifiers=CLASSIFIERS,\n",
    ")"
   ]
  }
 ],
 "metadata": {
  "kernelspec": {
   "display_name": "Python 3 (ipykernel)",
   "language": "python",
   "name": "python3"
  },
  "language_info": {
   "codemirror_mode": {
    "name": "ipython",
    "version": 3
   },
   "file_extension": ".py",
   "mimetype": "text/x-python",
   "name": "python",
   "nbconvert_exporter": "python",
   "pygments_lexer": "ipython3",
   "version": "3.8.10"
  }
 },
 "nbformat": 4,
 "nbformat_minor": 5
}
